{
 "cells": [
  {
   "cell_type": "markdown",
   "metadata": {},
   "source": [
    "<h1> CLEESE: A SHORT TUTORIAL </h1>"
   ]
  },
  {
   "cell_type": "markdown",
   "metadata": {},
   "source": [
    "![cleese](tutorial/pics/silly-walk.jpg)"
   ]
  },
  {
   "cell_type": "markdown",
   "metadata": {},
   "source": [
    "CLEESE (\"Ministry of Silly Speech\") is a sound and image manipulation tool designed to generate an infinite number of possible stimuli; be it natural-sounding expressive variations around an original speech recording, or variations on the expression of a human face.\n",
    "\n",
    "More precisely, CLEESE is currently composed of two engines: `PhaseVocoder` and `Mediapipe`.\n",
    "* `PhaseVocoder` allows one to create random fluctuations around an audio file’s original contour of pitch, loudness, timbre and speed (i.e. roughly defined, its prosody). One of its foreseen applications is the generation of very many random voice stimuli for reverse correlation experiments.\n",
    "* `Mediapipe` uses [mediapipe](https://google.github.io/mediapipe/)'s Face Mesh API to introduce random or precomputed deformation in the expression of a visage on an image. This engine was designed to produce batches of deformed faces for reverse correlation experiments.\n",
    "\n",
    "CLEESE is a free, standalone Python module, distributed under an open-source MIT Licence on the IRCAM Forumnet plateform. It was designed by Juan José Burred, Emmanuel Ponsot and Jean-Julien Aucouturier (STMS, IRCAM/CNRS/Sorbonne Université, Paris), with collaboration from Pascal Belin (Institut des Neurosciences de la Timone, Aix-Marseille Université), with generous funding from the European Research Council (CREAM 335536, 2014-2019, PI: JJ Aucouturier), and support for face deformation was added by Lara Kermarec (2022).\n",
    "\n",
    "This notebook is a short tutorial on how to use CLEESE to manipulate sounds, and is a companion to the PDF documentation available [here](https://github.com/creamlab/cleese/raw/master/doc/CLEESE_manual_v2.0.pdf)."
   ]
  },
  {
   "cell_type": "markdown",
   "metadata": {},
   "source": [
    "<h2> Installation </h2>"
   ]
  },
  {
   "cell_type": "markdown",
   "metadata": {},
   "source": [
    "#### 1. Python / Jupyter Notebook\n",
    "\n",
    "CLEESE being a Python package, you will to first have a working installation of Python (versions 2.7 or 3). In addition, to run this tutorial, you will need Jupyter Notebook as well as a number of commonly used packages for scientific computing. For new users, we highly recommend [installing Anaconda](https://www.continuum.io/downloads)>. Anaconda conveniently installs Python, the Jupyter Notebook, and other commonly used packages for scientific computing and data science.\n",
    "\n",
    "Use the following installation steps:\n",
    "* Download [Anaconda](https://www.continuum.io/downloads). We recommend downloading Anaconda’s  Python 2.7 version.\n",
    "* Install the version of Anaconda which you downloaded, following the instructions on the download page.\n",
    "\n",
    "#### 2. CLEESE\n",
    "\n",
    "* Install CLEESE from your shell/command line: ```pip install cleese-stim```\n",
    "* Launch Jupyter notebook from your shell/command line ```jupyter notebook``` and navigate to this tutorial .ipynb file\n",
    "* Try running the following cell, as a test. It should import cleese as well as a number of scientific packages included in the Anaconda distribution, and return with no error. "
   ]
  },
  {
   "cell_type": "code",
   "execution_count": null,
   "metadata": {},
   "outputs": [],
   "source": [
    "import cleese_stim as cleese\n",
    "from cleese_stim.engines import Mediapipe\n",
    "\n",
    "import scipy.io.wavfile as wav\n",
    "import numpy as np\n",
    "from PIL import Image\n",
    "from IPython.display import Markdown, display, Audio\n",
    "from IPython.core.interactiveshell import InteractiveShell\n",
    "InteractiveShell.ast_node_interactivity = \"all\"\n",
    "import matplotlib.pyplot as plt\n",
    "%matplotlib inline\n",
    "from pylab import rcParams\n",
    "rcParams['figure.figsize'] = 5, 2"
   ]
  },
  {
   "cell_type": "markdown",
   "metadata": {},
   "source": [
    "## Basic image manipulation with CLEESE"
   ]
  },
  {
   "cell_type": "markdown",
   "metadata": {},
   "source": [
    "### Random image deformation\n",
    "\n",
    "The most basic usage scenario of CLEESE's `Mediapipe` engine is to input a single image (here, a close-up of the Mona Lisa, `pics/monalisa.jpg`)"
   ]
  },
  {
   "cell_type": "code",
   "execution_count": null,
   "metadata": {},
   "outputs": [],
   "source": [
    "monalisa_file = \"tutorial/pics/monalisa.jpg\"\n",
    "img = Image.open(monalisa_file)\n",
    "display(img)"
   ]
  },
  {
   "cell_type": "markdown",
   "metadata": {},
   "source": [
    "and use CLEESE to apply random tranformation to the expression of the face on the image. For this we use the `cleese.process_data` function that generate a single input from existing array data. We provide this function with the engine we want to use for this transformation (here: `Mediapipe`), the data itself, and a configuration file specifying the parameters of the transformation."
   ]
  },
  {
   "cell_type": "code",
   "execution_count": null,
   "metadata": {},
   "outputs": [],
   "source": [
    "monalisa_file = \"tutorial/pics/monalisa.jpg\"\n",
    "config_file = \"tutorial/configs/random_lips.toml\"\n",
    "\n",
    "img = np.array(Image.open(monalisa_file))\n",
    "deformed = cleese.process_data(Mediapipe, img, config_file)\n",
    "display(Image.fromarray(deformed))"
   ]
  },
  {
   "cell_type": "markdown",
   "metadata": {},
   "source": [
    "### Direct file loading\n",
    "\n",
    "CLEESE can also directly load image files and process them using the  `cleese.process_file` function, like so:"
   ]
  },
  {
   "cell_type": "code",
   "execution_count": null,
   "metadata": {},
   "outputs": [],
   "source": [
    "monalisa_file = \"tutorial/pics/monalisa.jpg\"\n",
    "config_file = \"tutorial/configs/random_lips.toml\"\n",
    "\n",
    "deformed = cleese.process_file(Mediapipe, monalisa_file, config_file)\n",
    "display(Image.fromarray(deformed))"
   ]
  },
  {
   "cell_type": "markdown",
   "metadata": {},
   "source": [
    "<h3> Batched transforms </h3>"
   ]
  },
  {
   "cell_type": "markdown",
   "metadata": {},
   "source": [
    "Instead of generating output files one at a time, CLEESE can be used to generate large numbers of manipulated files, each randomly generated using parameters specified in config files as above. This is achieved by using the `cleese.generate_stimuli` function. This function does not return the generated images, but directly writes them in the folder specified under `[main] outPath`, and the number of output files generated is given by `[main] numFiles`, all of which are found in the configuration file:\n",
    "```\n",
    "[main]\n",
    "\n",
    "# output root folder\n",
    "outPath = \"tutorial/output\"\n",
    "\n",
    "# number of output files to generate (for random modifications)\n",
    "numFiles = 10\n",
    "\n",
    "# generate experiment folder with name based on current time\n",
    "generateExpFolder = false\n",
    "```"
   ]
  },
  {
   "cell_type": "code",
   "execution_count": null,
   "metadata": {},
   "outputs": [],
   "source": [
    "monalisa_file = \"tutorial/pics/monalisa.jpg\"\n",
    "config_file = \"tutorial/configs/random_lips.toml\"\n",
    "\n",
    "deformed = cleese.generate_stimuli(Mediapipe, monalisa_file, config_file)"
   ]
  },
  {
   "cell_type": "markdown",
   "metadata": {},
   "source": [
    "In addition to generating 10 images containing randomly deformed faces in the ouptut directory, CLEESE also writes for each image a `.dfmxy` file containing the deformation vectors applied to each facial landmarks, as well as a file containing the positions of all the landmarks detected on the original image (`.landmarks.txt`). Additionally, both the original image and configuration files are copied to the output directory."
   ]
  },
  {
   "cell_type": "markdown",
   "metadata": {},
   "source": [
    "### Applying existing deformation\n",
    "\n",
    "CLEESE's `Mediapipe` is also able to apply a given deformation set -- for example loaded from a `.dfmxy` file -- to an image. This can be useful to gauge the combined results of a reverse correlation experiment."
   ]
  },
  {
   "cell_type": "code",
   "execution_count": null,
   "metadata": {},
   "outputs": [],
   "source": [
    "dfmxy_file = \"tutorial/dfm/monalisa.random.dfmxy\"\n",
    "monalisa_file = \"tutorial/pics/monalisa.jpg\"\n",
    "config_file = \"tutorial/configs/random_lips.toml\"\n",
    "\n",
    "dfmxy = Mediapipe.load_dfmxy(dfmxy_file)\n",
    "img = cleese.process_file(Mediapipe,\n",
    "                          monalisa_file,\n",
    "                          config_file,\n",
    "                          dfmxy=dfmxy)\n",
    "display(Image.fromarray(img))"
   ]
  },
  {
   "cell_type": "markdown",
   "metadata": {},
   "source": [
    "## Advanced use\n",
    "\n",
    "### Converting `.dfmxy` to `.dfm`\n",
    "\n",
    "Other face deformation tools developed by our team use the `.dfm` deformation file format, more suited to applying the same deformation to an arbitrary face. However, by its use of barycentric coordinates in a landmarks triangulation, it isn't suited to any post or pre-processing, which is an area where `.dfmxy` shines. As a result, CLEESE's `Mediapipe` provides a way to convert a given, `.dfmxy` to `.dfm`, provided you also have the original landmarks on hand:"
   ]
  },
  {
   "cell_type": "code",
   "execution_count": null,
   "metadata": {},
   "outputs": [],
   "source": [
    "dfmxy_file = \"tutorial/dfm/monalisa.random.dfmxy\"\n",
    "landmarks_file = \"tutorial/dfm/monalisa.landmarks.txt\"\n",
    "dfm_file = \"tutorial/output/converted.dfm\"\n",
    "\n",
    "Mediapipe.dfmxy_to_dfm(dfmxy_file,\n",
    "                       landmarks_file,\n",
    "                       output_dfm_file=dfm_file)\n"
   ]
  },
  {
   "cell_type": "markdown",
   "metadata": {},
   "source": [
    "### Applying a `.dfm`\n",
    "\n",
    "As another compatibility feature, CLEESE's `Mediapipe` also allow for applying an existing `.dfm` file to an arbitrary image:"
   ]
  },
  {
   "cell_type": "code",
   "execution_count": null,
   "metadata": {},
   "outputs": [],
   "source": [
    "dfm_file = \"tutorial/dfm/default.dfm\"\n",
    "monalisa_file = \"tutorial/pics/monalisa.jpg\"\n",
    "config_file = \"tutorial/configs/random_lips.toml\"\n",
    "\n",
    "dfm = Mediapipe.load_dfm(dfm_file)\n",
    "img = cleese.process_file(Mediapipe,\n",
    "                          monalisa_file,\n",
    "                          config_file,\n",
    "                          dfm=dfm)\n",
    "display(Image.fromarray(img))"
   ]
  }
 ],
 "metadata": {
  "kernelspec": {
   "display_name": "Python 3 (ipykernel)",
   "language": "python",
   "name": "python3"
  },
  "language_info": {
   "codemirror_mode": {
    "name": "ipython",
    "version": 3
   },
   "file_extension": ".py",
   "mimetype": "text/x-python",
   "name": "python",
   "nbconvert_exporter": "python",
   "pygments_lexer": "ipython3",
   "version": "3.10.2"
  }
 },
 "nbformat": 4,
 "nbformat_minor": 1
}
